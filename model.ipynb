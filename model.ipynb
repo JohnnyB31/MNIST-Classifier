{
 "cells": [
  {
   "cell_type": "code",
   "execution_count": 18,
   "metadata": {},
   "outputs": [],
   "source": [
    "import torch\n",
    "from torch import nn\n",
    "from torch.utils.data import DataLoader\n",
    "from torchvision import datasets\n",
    "from torchvision.transforms import ToTensor"
   ]
  },
  {
   "cell_type": "code",
   "execution_count": 19,
   "metadata": {},
   "outputs": [],
   "source": [
    "# Download training data from open datasets.\n",
    "training_data = datasets.MNIST(\n",
    "    root=\"data\",\n",
    "    train=True,\n",
    "    download=True,\n",
    "    transform=ToTensor(),\n",
    ")\n",
    "\n",
    "# Download test data from open datasets.\n",
    "test_data = datasets.MNIST(\n",
    "    root=\"data\",\n",
    "    train=False,\n",
    "    download=True,\n",
    "    transform=ToTensor(),\n",
    ")"
   ]
  },
  {
   "cell_type": "code",
   "execution_count": 20,
   "metadata": {},
   "outputs": [
    {
     "name": "stdout",
     "output_type": "stream",
     "text": [
      "Shape of X [N, C, H, W]: torch.Size([64, 1, 28, 28])\n",
      "Shape of y: torch.Size([64]) torch.int64\n"
     ]
    }
   ],
   "source": [
    "batch_size = 64\n",
    "\n",
    "# Create data loaders.\n",
    "train_dataloader = DataLoader(training_data, batch_size=batch_size, shuffle=True)\n",
    "test_dataloader = DataLoader(test_data, batch_size=batch_size, shuffle=True)\n",
    "\n",
    "for X, y in train_dataloader:\n",
    "    print(f\"Shape of X [N, C, H, W]: {X.shape}\")\n",
    "    print(f\"Shape of y: {y.shape} {y.dtype}\")\n",
    "    break"
   ]
  },
  {
   "cell_type": "code",
   "execution_count": 21,
   "metadata": {},
   "outputs": [
    {
     "name": "stdout",
     "output_type": "stream",
     "text": [
      "Using cuda device\n",
      "NeuralNetwork(\n",
      "  (flatten): Flatten(start_dim=1, end_dim=-1)\n",
      "  (linear_relu_stack): Sequential(\n",
      "    (0): Linear(in_features=784, out_features=512, bias=True)\n",
      "    (1): LayerNorm((512,), eps=1e-05, elementwise_affine=True)\n",
      "    (2): LeakyReLU(negative_slope=0.01)\n",
      "    (3): Dropout(p=0.1, inplace=False)\n",
      "    (4): Linear(in_features=512, out_features=512, bias=True)\n",
      "    (5): LayerNorm((512,), eps=1e-05, elementwise_affine=True)\n",
      "    (6): LeakyReLU(negative_slope=0.01)\n",
      "    (7): Dropout(p=0.1, inplace=False)\n",
      "    (8): Linear(in_features=512, out_features=10, bias=True)\n",
      "    (9): Softmax(dim=1)\n",
      "  )\n",
      ")\n"
     ]
    }
   ],
   "source": [
    "# Get cpu, gpu or mps device for training.\n",
    "device = (\n",
    "    \"cuda\"\n",
    "    if torch.cuda.is_available()\n",
    "    else \"mps\"\n",
    "    if torch.backends.mps.is_available()\n",
    "    else \"cpu\"\n",
    ")\n",
    "print(f\"Using {device} device\")\n",
    "\n",
    "# Define model\n",
    "class NeuralNetwork(nn.Module):\n",
    "    def __init__(self):\n",
    "        super().__init__()\n",
    "        self.flatten = nn.Flatten()\n",
    "        self.linear_relu_stack = nn.Sequential(\n",
    "            nn.Linear(784, 512),\n",
    "            nn.LayerNorm(512),\n",
    "            nn.LeakyReLU(),\n",
    "            nn.Dropout(0.1),\n",
    "\n",
    "            nn.Linear(512, 512),\n",
    "            nn.LayerNorm(512),\n",
    "            nn.LeakyReLU(),\n",
    "            nn.Dropout(0.1),\n",
    "\n",
    "\n",
    "            nn.Linear(512, 10),\n",
    "            nn.Softmax(1)\n",
    "        )\n",
    "\n",
    "    def forward(self, x):\n",
    "        x = self.flatten(x)\n",
    "        logits = self.linear_relu_stack(x)\n",
    "        return logits\n",
    "\n",
    "model = NeuralNetwork().to(device)\n",
    "print(model)"
   ]
  },
  {
   "cell_type": "code",
   "execution_count": 22,
   "metadata": {},
   "outputs": [],
   "source": [
    "loss_fn = nn.CrossEntropyLoss()\n",
    "optimizer = torch.optim.RMSprop(model.parameters(), lr=0.00005)"
   ]
  },
  {
   "cell_type": "code",
   "execution_count": 23,
   "metadata": {},
   "outputs": [],
   "source": [
    "def train(dataloader, model, loss_fn, optimizer):\n",
    "    size = len(dataloader.dataset)\n",
    "    model.train()\n",
    "    for batch, (X, y) in enumerate(dataloader):\n",
    "        X, y = X.to(device), y.to(device)\n",
    "\n",
    "        # Compute prediction error\n",
    "        pred = model(X)\n",
    "        loss = loss_fn(pred, y)\n",
    "\n",
    "        # Backpropagation\n",
    "        loss.backward()\n",
    "        optimizer.step()\n",
    "        optimizer.zero_grad()\n",
    "\n",
    "        if batch % 100 == 0:\n",
    "            loss, current = loss.item(), (batch + 1) * len(X)\n",
    "            print(f\"loss: {loss:>7f}  [{current:>5d}/{size:>5d}]\")"
   ]
  },
  {
   "cell_type": "code",
   "execution_count": 24,
   "metadata": {},
   "outputs": [],
   "source": [
    "def test(dataloader, model, loss_fn):\n",
    "    size = len(dataloader.dataset)\n",
    "    num_batches = len(dataloader)\n",
    "    model.eval()\n",
    "    test_loss, correct = 0, 0\n",
    "    with torch.no_grad():\n",
    "        for X, y in dataloader:\n",
    "            X, y = X.to(device), y.to(device)\n",
    "            pred = model(X)\n",
    "            test_loss += loss_fn(pred, y).item()\n",
    "            correct += (pred.argmax(1) == y).type(torch.float).sum().item()\n",
    "    test_loss /= num_batches\n",
    "    correct /= size\n",
    "    print(f\"Test Error: \\n Accuracy: {(100*correct):>0.1f}%, Avg loss: {test_loss:>8f} \\n\")"
   ]
  },
  {
   "cell_type": "code",
   "execution_count": 25,
   "metadata": {},
   "outputs": [
    {
     "name": "stdout",
     "output_type": "stream",
     "text": [
      "Epoch 1\n",
      "-------------------------------\n",
      "loss: 2.321047  [   64/60000]\n"
     ]
    },
    {
     "name": "stdout",
     "output_type": "stream",
     "text": [
      "loss: 1.721905  [ 6464/60000]\n",
      "loss: 1.693785  [12864/60000]\n",
      "loss: 1.630021  [19264/60000]\n",
      "loss: 1.607836  [25664/60000]\n",
      "loss: 1.625428  [32064/60000]\n",
      "loss: 1.605342  [38464/60000]\n",
      "loss: 1.583667  [44864/60000]\n",
      "loss: 1.556382  [51264/60000]\n",
      "loss: 1.574652  [57664/60000]\n",
      "Test Error: \n",
      " Accuracy: 93.4%, Avg loss: 1.544786 \n",
      "\n",
      "Epoch 2\n",
      "-------------------------------\n",
      "loss: 1.491045  [   64/60000]\n",
      "loss: 1.549093  [ 6464/60000]\n",
      "loss: 1.534711  [12864/60000]\n",
      "loss: 1.525746  [19264/60000]\n",
      "loss: 1.549162  [25664/60000]\n",
      "loss: 1.526278  [32064/60000]\n",
      "loss: 1.535664  [38464/60000]\n",
      "loss: 1.509813  [44864/60000]\n",
      "loss: 1.518725  [51264/60000]\n",
      "loss: 1.515718  [57664/60000]\n",
      "Test Error: \n",
      " Accuracy: 94.8%, Avg loss: 1.522718 \n",
      "\n",
      "Epoch 3\n",
      "-------------------------------\n",
      "loss: 1.514114  [   64/60000]\n",
      "loss: 1.503289  [ 6464/60000]\n",
      "loss: 1.540902  [12864/60000]\n",
      "loss: 1.572305  [19264/60000]\n",
      "loss: 1.486817  [25664/60000]\n",
      "loss: 1.523991  [32064/60000]\n",
      "loss: 1.500935  [38464/60000]\n",
      "loss: 1.521643  [44864/60000]\n",
      "loss: 1.515474  [51264/60000]\n",
      "loss: 1.548162  [57664/60000]\n",
      "Test Error: \n",
      " Accuracy: 95.6%, Avg loss: 1.510896 \n",
      "\n",
      "Epoch 4\n",
      "-------------------------------\n",
      "loss: 1.483755  [   64/60000]\n",
      "loss: 1.538829  [ 6464/60000]\n",
      "loss: 1.520114  [12864/60000]\n",
      "loss: 1.503651  [19264/60000]\n",
      "loss: 1.518999  [25664/60000]\n",
      "loss: 1.489453  [32064/60000]\n",
      "loss: 1.518265  [38464/60000]\n",
      "loss: 1.496162  [44864/60000]\n",
      "loss: 1.484486  [51264/60000]\n",
      "loss: 1.508502  [57664/60000]\n",
      "Test Error: \n",
      " Accuracy: 96.2%, Avg loss: 1.504124 \n",
      "\n",
      "Epoch 5\n",
      "-------------------------------\n",
      "loss: 1.509587  [   64/60000]\n",
      "loss: 1.490528  [ 6464/60000]\n",
      "loss: 1.518598  [12864/60000]\n",
      "loss: 1.493247  [19264/60000]\n",
      "loss: 1.519756  [25664/60000]\n",
      "loss: 1.500026  [32064/60000]\n",
      "loss: 1.501021  [38464/60000]\n",
      "loss: 1.548504  [44864/60000]\n",
      "loss: 1.510579  [51264/60000]\n",
      "loss: 1.517909  [57664/60000]\n",
      "Test Error: \n",
      " Accuracy: 96.7%, Avg loss: 1.499894 \n",
      "\n",
      "Epoch 6\n",
      "-------------------------------\n",
      "loss: 1.510651  [   64/60000]\n",
      "loss: 1.499696  [ 6464/60000]\n",
      "loss: 1.487552  [12864/60000]\n",
      "loss: 1.502359  [19264/60000]\n",
      "loss: 1.505770  [25664/60000]\n",
      "loss: 1.500951  [32064/60000]\n",
      "loss: 1.495107  [38464/60000]\n",
      "loss: 1.492053  [44864/60000]\n",
      "loss: 1.466128  [51264/60000]\n",
      "loss: 1.486356  [57664/60000]\n",
      "Test Error: \n",
      " Accuracy: 97.0%, Avg loss: 1.495915 \n",
      "\n",
      "Epoch 7\n",
      "-------------------------------\n",
      "loss: 1.482553  [   64/60000]\n",
      "loss: 1.505062  [ 6464/60000]\n",
      "loss: 1.487326  [12864/60000]\n",
      "loss: 1.486087  [19264/60000]\n",
      "loss: 1.489609  [25664/60000]\n",
      "loss: 1.466096  [32064/60000]\n",
      "loss: 1.465369  [38464/60000]\n",
      "loss: 1.495801  [44864/60000]\n",
      "loss: 1.493463  [51264/60000]\n",
      "loss: 1.481515  [57664/60000]\n",
      "Test Error: \n",
      " Accuracy: 97.1%, Avg loss: 1.493781 \n",
      "\n",
      "Done!\n"
     ]
    }
   ],
   "source": [
    "epochs = 7\n",
    "with torch.no_grad():\n",
    "    nn.init.xavier_uniform_(model.linear_relu_stack[0].weight)\n",
    "    nn.init.xavier_uniform_(model.linear_relu_stack[4].weight)\n",
    "    nn.init.zeros_(model.linear_relu_stack[0].bias)\n",
    "    nn.init.zeros_(model.linear_relu_stack[4].bias)\n",
    "\n",
    "for t in range(epochs):\n",
    "    print(f\"Epoch {t+1}\\n-------------------------------\")\n",
    "    train(train_dataloader, model, loss_fn, optimizer)\n",
    "    test(test_dataloader, model, loss_fn)\n",
    "print(\"Done!\")"
   ]
  },
  {
   "cell_type": "code",
   "execution_count": 26,
   "metadata": {},
   "outputs": [
    {
     "name": "stdout",
     "output_type": "stream",
     "text": [
      "Predicted: \"4\", Actual: \"4\"\n"
     ]
    }
   ],
   "source": [
    "model.eval()\n",
    "x, y = test_data[42][0], test_data[42][1]\n",
    "with torch.no_grad():\n",
    "    x = x.to(device)\n",
    "    pred = model(x)\n",
    "    predicted, actual = torch.argmax(pred[0]), y\n",
    "    print(f'Predicted: \"{predicted}\", Actual: \"{actual}\"')\n"
   ]
  }
 ],
 "metadata": {
  "kernelspec": {
   "display_name": "Python 3",
   "language": "python",
   "name": "python3"
  },
  "language_info": {
   "codemirror_mode": {
    "name": "ipython",
    "version": 3
   },
   "file_extension": ".py",
   "mimetype": "text/x-python",
   "name": "python",
   "nbconvert_exporter": "python",
   "pygments_lexer": "ipython3",
   "version": "3.10.11"
  }
 },
 "nbformat": 4,
 "nbformat_minor": 2
}
